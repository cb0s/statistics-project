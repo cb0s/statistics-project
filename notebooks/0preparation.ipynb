{
 "cells": [
  {
   "cell_type": "markdown",
   "source": [
    "# Preparation\n",
    "\n",
    "As the supplied data is in an MS-Excel format, which isn't particularly easy to handle, the supplied data set gets converted to the [_parquet_](https://www.databricks.com/glossary/what-is-parquet) data format.\n",
    "On top of this, the Spanish column names get converted into English ones."
   ],
   "metadata": {
    "collapsed": false
   }
  },
  {
   "cell_type": "markdown",
   "source": [
    "## Environment and Imports\n",
    "\n",
    "This notebook was tested with Python 3.10.2. However, the code is Python 3.9 compatible - this version should also work for that matter.\n",
    "For the data preparation the following Python Packages are used:\n",
    "  - [Pandas](https://pandas.pydata.org/)\n",
    "\n",
    "In a first step all the requirements must be installed. This is done with _pip_, the internal Python package manager."
   ],
   "metadata": {
    "collapsed": false
   }
  },
  {
   "cell_type": "code",
   "execution_count": 8,
   "outputs": [
    {
     "name": "stdout",
     "output_type": "stream",
     "text": [
      "Requirement already satisfied: jupyter in c:\\programdata\\anaconda3\\envs\\proyecto\\lib\\site-packages (from -r ../requirements.txt (line 1)) (1.0.0)\n",
      "Requirement already satisfied: pandas in c:\\programdata\\anaconda3\\envs\\proyecto\\lib\\site-packages (from -r ../requirements.txt (line 2)) (1.5.2)\n",
      "Requirement already satisfied: openpyxl in c:\\programdata\\anaconda3\\envs\\proyecto\\lib\\site-packages (from -r ../requirements.txt (line 3)) (3.0.10)\n",
      "Requirement already satisfied: notebook in c:\\programdata\\anaconda3\\envs\\proyecto\\lib\\site-packages (from jupyter->-r ../requirements.txt (line 1)) (6.5.2)\n",
      "Requirement already satisfied: jupyter-console in c:\\programdata\\anaconda3\\envs\\proyecto\\lib\\site-packages (from jupyter->-r ../requirements.txt (line 1)) (6.4.4)\n",
      "Requirement already satisfied: ipykernel in c:\\programdata\\anaconda3\\envs\\proyecto\\lib\\site-packages (from jupyter->-r ../requirements.txt (line 1)) (6.18.0)\n",
      "Requirement already satisfied: nbconvert in c:\\programdata\\anaconda3\\envs\\proyecto\\lib\\site-packages (from jupyter->-r ../requirements.txt (line 1)) (7.2.5)\n",
      "Requirement already satisfied: qtconsole in c:\\programdata\\anaconda3\\envs\\proyecto\\lib\\site-packages (from jupyter->-r ../requirements.txt (line 1)) (5.4.0)\n",
      "Requirement already satisfied: ipywidgets in c:\\programdata\\anaconda3\\envs\\proyecto\\lib\\site-packages (from jupyter->-r ../requirements.txt (line 1)) (8.0.2)\n",
      "Requirement already satisfied: numpy>=1.21.0 in c:\\programdata\\anaconda3\\envs\\proyecto\\lib\\site-packages (from pandas->-r ../requirements.txt (line 2)) (1.23.5)\n",
      "Requirement already satisfied: python-dateutil>=2.8.1 in c:\\programdata\\anaconda3\\envs\\proyecto\\lib\\site-packages (from pandas->-r ../requirements.txt (line 2)) (2.8.2)\n",
      "Requirement already satisfied: pytz>=2020.1 in c:\\programdata\\anaconda3\\envs\\proyecto\\lib\\site-packages (from pandas->-r ../requirements.txt (line 2)) (2022.6)\n",
      "Requirement already satisfied: et-xmlfile in c:\\programdata\\anaconda3\\envs\\proyecto\\lib\\site-packages (from openpyxl->-r ../requirements.txt (line 3)) (1.1.0)\n",
      "Requirement already satisfied: six>=1.5 in c:\\programdata\\anaconda3\\envs\\proyecto\\lib\\site-packages (from python-dateutil>=2.8.1->pandas->-r ../requirements.txt (line 2)) (1.16.0)\n",
      "Requirement already satisfied: packaging in c:\\programdata\\anaconda3\\envs\\proyecto\\lib\\site-packages (from ipykernel->jupyter->-r ../requirements.txt (line 1)) (21.3)\n",
      "Requirement already satisfied: ipython>=7.23.1 in c:\\programdata\\anaconda3\\envs\\proyecto\\lib\\site-packages (from ipykernel->jupyter->-r ../requirements.txt (line 1)) (8.6.0)\n",
      "Requirement already satisfied: debugpy>=1.0 in c:\\programdata\\anaconda3\\envs\\proyecto\\lib\\site-packages (from ipykernel->jupyter->-r ../requirements.txt (line 1)) (1.6.3)\n",
      "Requirement already satisfied: psutil in c:\\programdata\\anaconda3\\envs\\proyecto\\lib\\site-packages (from ipykernel->jupyter->-r ../requirements.txt (line 1)) (5.9.4)\n",
      "Requirement already satisfied: comm>=0.1 in c:\\programdata\\anaconda3\\envs\\proyecto\\lib\\site-packages (from ipykernel->jupyter->-r ../requirements.txt (line 1)) (0.1.0)\n",
      "Requirement already satisfied: matplotlib-inline>=0.1 in c:\\programdata\\anaconda3\\envs\\proyecto\\lib\\site-packages (from ipykernel->jupyter->-r ../requirements.txt (line 1)) (0.1.6)\n",
      "Requirement already satisfied: pyzmq>=17 in c:\\programdata\\anaconda3\\envs\\proyecto\\lib\\site-packages (from ipykernel->jupyter->-r ../requirements.txt (line 1)) (24.0.1)\n",
      "Requirement already satisfied: jupyter-client>=6.1.12 in c:\\programdata\\anaconda3\\envs\\proyecto\\lib\\site-packages (from ipykernel->jupyter->-r ../requirements.txt (line 1)) (7.4.7)\n",
      "Requirement already satisfied: nest-asyncio in c:\\programdata\\anaconda3\\envs\\proyecto\\lib\\site-packages (from ipykernel->jupyter->-r ../requirements.txt (line 1)) (1.5.6)\n",
      "Requirement already satisfied: tornado>=6.1 in c:\\programdata\\anaconda3\\envs\\proyecto\\lib\\site-packages (from ipykernel->jupyter->-r ../requirements.txt (line 1)) (6.2)\n",
      "Requirement already satisfied: traitlets>=5.1.0 in c:\\programdata\\anaconda3\\envs\\proyecto\\lib\\site-packages (from ipykernel->jupyter->-r ../requirements.txt (line 1)) (5.5.0)\n",
      "Requirement already satisfied: jupyterlab-widgets~=3.0 in c:\\programdata\\anaconda3\\envs\\proyecto\\lib\\site-packages (from ipywidgets->jupyter->-r ../requirements.txt (line 1)) (3.0.3)\n",
      "Requirement already satisfied: widgetsnbextension~=4.0 in c:\\programdata\\anaconda3\\envs\\proyecto\\lib\\site-packages (from ipywidgets->jupyter->-r ../requirements.txt (line 1)) (4.0.3)\n",
      "Requirement already satisfied: pygments in c:\\programdata\\anaconda3\\envs\\proyecto\\lib\\site-packages (from jupyter-console->jupyter->-r ../requirements.txt (line 1)) (2.13.0)\n",
      "Requirement already satisfied: prompt-toolkit!=3.0.0,!=3.0.1,<3.1.0,>=2.0.0 in c:\\programdata\\anaconda3\\envs\\proyecto\\lib\\site-packages (from jupyter-console->jupyter->-r ../requirements.txt (line 1)) (3.0.33)\n",
      "Requirement already satisfied: nbclient>=0.5.0 in c:\\programdata\\anaconda3\\envs\\proyecto\\lib\\site-packages (from nbconvert->jupyter->-r ../requirements.txt (line 1)) (0.7.0)\n",
      "Requirement already satisfied: pandocfilters>=1.4.1 in c:\\programdata\\anaconda3\\envs\\proyecto\\lib\\site-packages (from nbconvert->jupyter->-r ../requirements.txt (line 1)) (1.5.0)\n",
      "Requirement already satisfied: beautifulsoup4 in c:\\programdata\\anaconda3\\envs\\proyecto\\lib\\site-packages (from nbconvert->jupyter->-r ../requirements.txt (line 1)) (4.11.1)\n",
      "Requirement already satisfied: mistune<3,>=2.0.3 in c:\\programdata\\anaconda3\\envs\\proyecto\\lib\\site-packages (from nbconvert->jupyter->-r ../requirements.txt (line 1)) (2.0.4)\n",
      "Requirement already satisfied: defusedxml in c:\\programdata\\anaconda3\\envs\\proyecto\\lib\\site-packages (from nbconvert->jupyter->-r ../requirements.txt (line 1)) (0.7.1)\n",
      "Requirement already satisfied: jupyterlab-pygments in c:\\programdata\\anaconda3\\envs\\proyecto\\lib\\site-packages (from nbconvert->jupyter->-r ../requirements.txt (line 1)) (0.2.2)\n",
      "Requirement already satisfied: nbformat>=5.1 in c:\\programdata\\anaconda3\\envs\\proyecto\\lib\\site-packages (from nbconvert->jupyter->-r ../requirements.txt (line 1)) (5.7.0)\n",
      "Requirement already satisfied: jinja2>=3.0 in c:\\programdata\\anaconda3\\envs\\proyecto\\lib\\site-packages (from nbconvert->jupyter->-r ../requirements.txt (line 1)) (3.1.2)\n",
      "Requirement already satisfied: tinycss2 in c:\\programdata\\anaconda3\\envs\\proyecto\\lib\\site-packages (from nbconvert->jupyter->-r ../requirements.txt (line 1)) (1.2.1)\n",
      "Requirement already satisfied: bleach in c:\\programdata\\anaconda3\\envs\\proyecto\\lib\\site-packages (from nbconvert->jupyter->-r ../requirements.txt (line 1)) (5.0.1)\n",
      "Requirement already satisfied: markupsafe>=2.0 in c:\\programdata\\anaconda3\\envs\\proyecto\\lib\\site-packages (from nbconvert->jupyter->-r ../requirements.txt (line 1)) (2.1.1)\n",
      "Requirement already satisfied: jupyter-core>=4.7 in c:\\programdata\\anaconda3\\envs\\proyecto\\lib\\site-packages (from nbconvert->jupyter->-r ../requirements.txt (line 1)) (5.0.0)\n",
      "Requirement already satisfied: terminado>=0.8.3 in c:\\programdata\\anaconda3\\envs\\proyecto\\lib\\site-packages (from notebook->jupyter->-r ../requirements.txt (line 1)) (0.17.0)\n",
      "Requirement already satisfied: ipython-genutils in c:\\programdata\\anaconda3\\envs\\proyecto\\lib\\site-packages (from notebook->jupyter->-r ../requirements.txt (line 1)) (0.2.0)\n",
      "Requirement already satisfied: Send2Trash>=1.8.0 in c:\\programdata\\anaconda3\\envs\\proyecto\\lib\\site-packages (from notebook->jupyter->-r ../requirements.txt (line 1)) (1.8.0)\n",
      "Requirement already satisfied: argon2-cffi in c:\\programdata\\anaconda3\\envs\\proyecto\\lib\\site-packages (from notebook->jupyter->-r ../requirements.txt (line 1)) (21.3.0)\n",
      "Requirement already satisfied: prometheus-client in c:\\programdata\\anaconda3\\envs\\proyecto\\lib\\site-packages (from notebook->jupyter->-r ../requirements.txt (line 1)) (0.15.0)\n",
      "Requirement already satisfied: nbclassic>=0.4.7 in c:\\programdata\\anaconda3\\envs\\proyecto\\lib\\site-packages (from notebook->jupyter->-r ../requirements.txt (line 1)) (0.4.8)\n",
      "Requirement already satisfied: qtpy>=2.0.1 in c:\\programdata\\anaconda3\\envs\\proyecto\\lib\\site-packages (from qtconsole->jupyter->-r ../requirements.txt (line 1)) (2.3.0)\n",
      "Requirement already satisfied: colorama in c:\\programdata\\anaconda3\\envs\\proyecto\\lib\\site-packages (from ipython>=7.23.1->ipykernel->jupyter->-r ../requirements.txt (line 1)) (0.4.6)\n",
      "Requirement already satisfied: pickleshare in c:\\programdata\\anaconda3\\envs\\proyecto\\lib\\site-packages (from ipython>=7.23.1->ipykernel->jupyter->-r ../requirements.txt (line 1)) (0.7.5)\n",
      "Requirement already satisfied: stack-data in c:\\programdata\\anaconda3\\envs\\proyecto\\lib\\site-packages (from ipython>=7.23.1->ipykernel->jupyter->-r ../requirements.txt (line 1)) (0.6.1)\n",
      "Requirement already satisfied: jedi>=0.16 in c:\\programdata\\anaconda3\\envs\\proyecto\\lib\\site-packages (from ipython>=7.23.1->ipykernel->jupyter->-r ../requirements.txt (line 1)) (0.18.2)\n",
      "Requirement already satisfied: backcall in c:\\programdata\\anaconda3\\envs\\proyecto\\lib\\site-packages (from ipython>=7.23.1->ipykernel->jupyter->-r ../requirements.txt (line 1)) (0.2.0)\n",
      "Requirement already satisfied: decorator in c:\\programdata\\anaconda3\\envs\\proyecto\\lib\\site-packages (from ipython>=7.23.1->ipykernel->jupyter->-r ../requirements.txt (line 1)) (5.1.1)\n",
      "Requirement already satisfied: entrypoints in c:\\programdata\\anaconda3\\envs\\proyecto\\lib\\site-packages (from jupyter-client>=6.1.12->ipykernel->jupyter->-r ../requirements.txt (line 1)) (0.4)\n",
      "Requirement already satisfied: platformdirs in c:\\programdata\\anaconda3\\envs\\proyecto\\lib\\site-packages (from jupyter-core>=4.7->nbconvert->jupyter->-r ../requirements.txt (line 1)) (2.5.2)\n",
      "Requirement already satisfied: pywin32>=1.0 in c:\\programdata\\anaconda3\\envs\\proyecto\\lib\\site-packages (from jupyter-core>=4.7->nbconvert->jupyter->-r ../requirements.txt (line 1)) (304)\n",
      "Requirement already satisfied: jupyter-server>=1.8 in c:\\programdata\\anaconda3\\envs\\proyecto\\lib\\site-packages (from nbclassic>=0.4.7->notebook->jupyter->-r ../requirements.txt (line 1)) (1.23.3)\n",
      "Requirement already satisfied: notebook-shim>=0.1.0 in c:\\programdata\\anaconda3\\envs\\proyecto\\lib\\site-packages (from nbclassic>=0.4.7->notebook->jupyter->-r ../requirements.txt (line 1)) (0.2.2)\n",
      "Requirement already satisfied: jsonschema>=2.6 in c:\\programdata\\anaconda3\\envs\\proyecto\\lib\\site-packages (from nbformat>=5.1->nbconvert->jupyter->-r ../requirements.txt (line 1)) (4.17.0)\n",
      "Requirement already satisfied: fastjsonschema in c:\\programdata\\anaconda3\\envs\\proyecto\\lib\\site-packages (from nbformat>=5.1->nbconvert->jupyter->-r ../requirements.txt (line 1)) (2.16.2)\n",
      "Requirement already satisfied: wcwidth in c:\\programdata\\anaconda3\\envs\\proyecto\\lib\\site-packages (from prompt-toolkit!=3.0.0,!=3.0.1,<3.1.0,>=2.0.0->jupyter-console->jupyter->-r ../requirements.txt (line 1)) (0.2.5)\n",
      "Requirement already satisfied: pywinpty>=1.1.0 in c:\\programdata\\anaconda3\\envs\\proyecto\\lib\\site-packages (from terminado>=0.8.3->notebook->jupyter->-r ../requirements.txt (line 1)) (2.0.9)\n",
      "Requirement already satisfied: argon2-cffi-bindings in c:\\programdata\\anaconda3\\envs\\proyecto\\lib\\site-packages (from argon2-cffi->notebook->jupyter->-r ../requirements.txt (line 1)) (21.2.0)\n",
      "Requirement already satisfied: soupsieve>1.2 in c:\\programdata\\anaconda3\\envs\\proyecto\\lib\\site-packages (from beautifulsoup4->nbconvert->jupyter->-r ../requirements.txt (line 1)) (2.3.2.post1)\n",
      "Requirement already satisfied: webencodings in c:\\programdata\\anaconda3\\envs\\proyecto\\lib\\site-packages (from bleach->nbconvert->jupyter->-r ../requirements.txt (line 1)) (0.5.1)\n",
      "Requirement already satisfied: pyparsing!=3.0.5,>=2.0.2 in c:\\programdata\\anaconda3\\envs\\proyecto\\lib\\site-packages (from packaging->ipykernel->jupyter->-r ../requirements.txt (line 1)) (3.0.9)\n",
      "Requirement already satisfied: parso<0.9.0,>=0.8.0 in c:\\programdata\\anaconda3\\envs\\proyecto\\lib\\site-packages (from jedi>=0.16->ipython>=7.23.1->ipykernel->jupyter->-r ../requirements.txt (line 1)) (0.8.3)\n",
      "Requirement already satisfied: attrs>=17.4.0 in c:\\programdata\\anaconda3\\envs\\proyecto\\lib\\site-packages (from jsonschema>=2.6->nbformat>=5.1->nbconvert->jupyter->-r ../requirements.txt (line 1)) (22.1.0)\n",
      "Requirement already satisfied: pyrsistent!=0.17.0,!=0.17.1,!=0.17.2,>=0.14.0 in c:\\programdata\\anaconda3\\envs\\proyecto\\lib\\site-packages (from jsonschema>=2.6->nbformat>=5.1->nbconvert->jupyter->-r ../requirements.txt (line 1)) (0.19.2)\n",
      "Requirement already satisfied: anyio<4,>=3.1.0 in c:\\programdata\\anaconda3\\envs\\proyecto\\lib\\site-packages (from jupyter-server>=1.8->nbclassic>=0.4.7->notebook->jupyter->-r ../requirements.txt (line 1)) (3.6.2)\n",
      "Requirement already satisfied: websocket-client in c:\\programdata\\anaconda3\\envs\\proyecto\\lib\\site-packages (from jupyter-server>=1.8->nbclassic>=0.4.7->notebook->jupyter->-r ../requirements.txt (line 1)) (1.4.2)\n",
      "Requirement already satisfied: cffi>=1.0.1 in c:\\programdata\\anaconda3\\envs\\proyecto\\lib\\site-packages (from argon2-cffi-bindings->argon2-cffi->notebook->jupyter->-r ../requirements.txt (line 1)) (1.15.1)\n",
      "Requirement already satisfied: asttokens>=2.1.0 in c:\\programdata\\anaconda3\\envs\\proyecto\\lib\\site-packages (from stack-data->ipython>=7.23.1->ipykernel->jupyter->-r ../requirements.txt (line 1)) (2.1.0)\n",
      "Requirement already satisfied: executing>=1.2.0 in c:\\programdata\\anaconda3\\envs\\proyecto\\lib\\site-packages (from stack-data->ipython>=7.23.1->ipykernel->jupyter->-r ../requirements.txt (line 1)) (1.2.0)\n",
      "Requirement already satisfied: pure-eval in c:\\programdata\\anaconda3\\envs\\proyecto\\lib\\site-packages (from stack-data->ipython>=7.23.1->ipykernel->jupyter->-r ../requirements.txt (line 1)) (0.2.2)\n",
      "Requirement already satisfied: idna>=2.8 in c:\\programdata\\anaconda3\\envs\\proyecto\\lib\\site-packages (from anyio<4,>=3.1.0->jupyter-server>=1.8->nbclassic>=0.4.7->notebook->jupyter->-r ../requirements.txt (line 1)) (3.4)\n",
      "Requirement already satisfied: sniffio>=1.1 in c:\\programdata\\anaconda3\\envs\\proyecto\\lib\\site-packages (from anyio<4,>=3.1.0->jupyter-server>=1.8->nbclassic>=0.4.7->notebook->jupyter->-r ../requirements.txt (line 1)) (1.3.0)\n",
      "Requirement already satisfied: pycparser in c:\\programdata\\anaconda3\\envs\\proyecto\\lib\\site-packages (from cffi>=1.0.1->argon2-cffi-bindings->argon2-cffi->notebook->jupyter->-r ../requirements.txt (line 1)) (2.21)\n"
     ]
    }
   ],
   "source": [
    "# Install all requirements\n",
    "!pip install -r ../requirements.txt"
   ],
   "metadata": {
    "collapsed": false
   }
  },
  {
   "cell_type": "markdown",
   "source": [
    "After that, the packages used for the preparation can be imported."
   ],
   "metadata": {
    "collapsed": false
   }
  },
  {
   "cell_type": "code",
   "execution_count": null,
   "outputs": [],
   "source": [
    "# Import requirements\n",
    "import pandas as pd"
   ],
   "metadata": {
    "collapsed": false
   }
  },
  {
   "cell_type": "markdown",
   "source": [
    "## Data conversion\n",
    "\n",
    "When loading the raw data into a pandas data frame, it can be seen that with the proprietary _xlsx_ format, loading takes a long time. When doing any kind of data analysis, formats like this should be avoided. Therefore, a reasonably fast and at the same time a lot more efficient format is used - [_parquet_](https://www.databricks.com/glossary/what-is-parquet)."
   ],
   "metadata": {
    "collapsed": false
   }
  },
  {
   "cell_type": "markdown",
   "source": [
    "### Loading\n",
    "\n",
    "At first, the raw xlsx data must be loaded into a pandas data frame. Unfortunately, pandas does not support xlsx data loading out of the box - a xlsx driver is required. We use the recommended openpyxl implementation - hopefully already installed as part of the requirements."
   ],
   "metadata": {
    "collapsed": false
   }
  },
  {
   "cell_type": "code",
   "execution_count": null,
   "outputs": [],
   "source": [
    "# Load raw excel file as pandas data frame\n",
    "path = '../data/data.xlsx'\n",
    "df = pd.read_excel(path)"
   ],
   "metadata": {
    "collapsed": false,
    "pycharm": {
     "is_executing": true
    }
   }
  },
  {
   "cell_type": "code",
   "execution_count": null,
   "outputs": [],
   "source": [
    "# Optional - Print raw data frame\n",
    "df"
   ],
   "metadata": {
    "collapsed": false
   }
  },
  {
   "cell_type": "markdown",
   "source": [
    "### Renaming the columns\n",
    "\n",
    "Let's see how the columns are called."
   ],
   "metadata": {
    "collapsed": false
   }
  },
  {
   "cell_type": "code",
   "execution_count": 12,
   "outputs": [
    {
     "data": {
      "text/plain": "Index(['SEXO', 'PAÍS', 'NACIMIENTO', 'ACTIVIDAD', 'PROFESIÓN', 'ESTUDIOS',\n       'COMUNA', 'PROVINCIA', 'REGIÓN', 'BENEFICIO_AGRUPADO', 'AÑO', 'MES',\n       'EDAD', 'INGRESOS', 'CARGAS'],\n      dtype='object')"
     },
     "execution_count": 12,
     "metadata": {},
     "output_type": "execute_result"
    }
   ],
   "source": [
    "# Print keys of data frame\n",
    "df.keys()"
   ],
   "metadata": {
    "collapsed": false
   }
  },
  {
   "cell_type": "markdown",
   "source": [
    "We see that those names are especially bad to type on any keyboard outside of Latin speaking countries. This is why we should change those keys before saving them to the parquet data format."
   ],
   "metadata": {
    "collapsed": false
   }
  },
  {
   "cell_type": "code",
   "execution_count": 14,
   "outputs": [],
   "source": [
    "# Rename Spanish columns\n",
    "name_mapping = {\n",
    "    'SEXO':                 'sex',\n",
    "    'PAÍS':                 'country',\n",
    "    'NACIMIENTO':           'birthday',\n",
    "    'ACTIVIDAD':            'activity',\n",
    "    'PROFESIÓN':            'profession',\n",
    "    'ESTUDIOS':             'studies',\n",
    "    'COMUNA':               'community',\n",
    "    'PROVINCIA':            'state',\n",
    "    'REGIÓN':               'region',\n",
    "    'BENEFICIO_AGRUPADO':   'visa_reason',\n",
    "    'AÑO':                  'year',\n",
    "    'MES':                  'month',\n",
    "    'EDAD':                 'age',\n",
    "    'INGRESOS':             'imports',\n",
    "    'CARGAS':               'cargo'\n",
    "}\n",
    "df = df.rename(columns=name_mapping)"
   ],
   "metadata": {
    "collapsed": false
   }
  },
  {
   "cell_type": "markdown",
   "source": [
    "### Saving the data frame\n",
    "\n",
    "After the renaming process, the data frame is ready to be saved to the disk again.\n",
    "We don't use the parquet data format without compression - this allows for fast loading speeds compared to the xlsx format while still maintaining a notable file size reduction.\n",
    "Like with the xlsx data format, pandas needs an additional driver to support parquet. We again use the recommended standard driver pyarrow."
   ],
   "metadata": {
    "collapsed": false
   }
  },
  {
   "cell_type": "code",
   "execution_count": 16,
   "outputs": [],
   "source": [
    "# Save the data frame to the parquet format\n",
    "out_path = \"../data/data.parquet\"\n",
    "df.to_parquet(out_path)"
   ],
   "metadata": {
    "collapsed": false
   }
  },
  {
   "cell_type": "markdown",
   "source": [
    "This completes the data preparation. The next step is the actual data analysis which is done in _1analysis.ipynb_."
   ],
   "metadata": {
    "collapsed": false
   }
  }
 ],
 "metadata": {
  "kernelspec": {
   "display_name": "Python 3",
   "language": "python",
   "name": "python3"
  },
  "language_info": {
   "codemirror_mode": {
    "name": "ipython",
    "version": 2
   },
   "file_extension": ".py",
   "mimetype": "text/x-python",
   "name": "python",
   "nbconvert_exporter": "python",
   "pygments_lexer": "ipython2",
   "version": "2.7.6"
  }
 },
 "nbformat": 4,
 "nbformat_minor": 0
}
